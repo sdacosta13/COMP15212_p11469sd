{
 "cells": [
  {
   "cell_type": "markdown",
   "metadata": {},
   "source": [
    "# Caching Experiement"
   ]
  },
  {
   "cell_type": "code",
   "execution_count": 124,
   "metadata": {},
   "outputs": [],
   "source": [
    "from memory import Memory, CyclicCache, LRUCache, RandomCache\n",
    "import random\n"
   ]
  },
  {
   "cell_type": "markdown",
   "metadata": {},
   "source": [
    "This module will be used so that I dont need to generate the same tests over and over again"
   ]
  },
  {
   "cell_type": "code",
   "execution_count": 125,
   "metadata": {},
   "outputs": [],
   "source": [
    "def getTests():\n",
    "    tests = []\n",
    "    test20 = []\n",
    "    for i in range(20):\n",
    "        test20.append(random.randint(0,30))\n",
    "    test40 = []\n",
    "    for i in range(40):\n",
    "        test40.append(random.randint(0,30))\n",
    "    test60 = []\n",
    "    for i in range(60):\n",
    "        test60.append(random.randint(0,30))\n",
    "    test80 = []\n",
    "    for i in range(80):\n",
    "        test80.append(random.randint(0,30))\n",
    "    test100 = []\n",
    "    for i in range(100):\n",
    "        test100.append(random.randint(0,30))\n",
    "    test1000 = []\n",
    "    for i in range(1000):\n",
    "        test1000.append(random.randint(0,30))\n",
    "    tests.append(test20)\n",
    "    tests.append(test40)\n",
    "    tests.append(test60)\n",
    "    tests.append(test80)\n",
    "    tests.append(test100)\n",
    "    tests.append(test1000)\n",
    "    return tests\n",
    "\n"
   ]
  },
  {
   "cell_type": "markdown",
   "metadata": {},
   "source": [
    "I will use the same tests against each cache to fairly tests them"
   ]
  },
  {
   "cell_type": "code",
   "execution_count": 126,
   "metadata": {},
   "outputs": [],
   "source": [
    "tests = getTests()"
   ]
  },
  {
   "cell_type": "markdown",
   "metadata": {},
   "source": [
    "This function will save me writing the same tests for each new test I run"
   ]
  },
  {
   "cell_type": "code",
   "execution_count": 127,
   "metadata": {},
   "outputs": [],
   "source": [
    "def testCache(cType,tests, cSize = 4):\n",
    "    tests = getTests()\n",
    "    results = []\n",
    "    \n",
    "    for testNum in range(len(tests)):\n",
    "        if(cType == \"Cyclic\"):\n",
    "            cache = CyclicCache(cSize)\n",
    "        elif(cType == \"LRU\"):\n",
    "            cache = LRUCache(cSize)\n",
    "        elif(cType == \"Random\"):\n",
    "            cache = RandomCache(cSize)\n",
    "        else:\n",
    "            cache = Memory()\n",
    "        for testData in range(len(tests[testNum])):\n",
    "            cache.lookup(tests[testNum][testData])\n",
    "        results.append(cache.get_hit_count())\n",
    "    return results"
   ]
  },
  {
   "cell_type": "markdown",
   "metadata": {},
   "source": [
    "This will give me the percentage hitrate for each caching strategy "
   ]
  },
  {
   "cell_type": "code",
   "execution_count": 128,
   "metadata": {},
   "outputs": [],
   "source": [
    "def getPercentages(list1):\n",
    "    newList = [0,0,0,0,0,0]\n",
    "    newList[0] = list1[0]/20\n",
    "    newList[1] = list1[1]/40\n",
    "    newList[2] = list1[2]/60\n",
    "    newList[3] = list1[3]/80\n",
    "    newList[4] = list1[4]/100\n",
    "    newList[5] = list1[5]/1000\n",
    "    return newList"
   ]
  },
  {
   "cell_type": "markdown",
   "metadata": {},
   "source": [
    "I can now perform tests"
   ]
  },
  {
   "cell_type": "markdown",
   "metadata": {},
   "source": [
    "# Cyclic tests"
   ]
  },
  {
   "cell_type": "markdown",
   "metadata": {},
   "source": [
    "Testing Cyclic cache with a standard cache size"
   ]
  },
  {
   "cell_type": "code",
   "execution_count": 129,
   "metadata": {},
   "outputs": [],
   "source": [
    "cyclicTest4 = testCache(\"Cyclic\",tests, 4)"
   ]
  },
  {
   "cell_type": "code",
   "execution_count": 130,
   "metadata": {},
   "outputs": [
    {
     "data": {
      "text/plain": [
       "[16, 32, 54, 69, 87, 857]"
      ]
     },
     "execution_count": 130,
     "metadata": {},
     "output_type": "execute_result"
    }
   ],
   "source": [
    "cyclicTest4"
   ]
  },
  {
   "cell_type": "code",
   "execution_count": 131,
   "metadata": {},
   "outputs": [],
   "source": [
    "cyclicTest8 = testCache(\"Cyclic\",tests, 8)"
   ]
  },
  {
   "cell_type": "code",
   "execution_count": 132,
   "metadata": {},
   "outputs": [
    {
     "data": {
      "text/plain": [
       "[19, 33, 47, 66, 74, 737]"
      ]
     },
     "execution_count": 132,
     "metadata": {},
     "output_type": "execute_result"
    }
   ],
   "source": [
    "cyclicTest8"
   ]
  },
  {
   "cell_type": "code",
   "execution_count": 133,
   "metadata": {},
   "outputs": [],
   "source": [
    "cyclicTest16 = testCache(\"Cyclic\",tests, 16)"
   ]
  },
  {
   "cell_type": "code",
   "execution_count": 134,
   "metadata": {},
   "outputs": [
    {
     "data": {
      "text/plain": [
       "[14, 29, 40, 46, 54, 489]"
      ]
     },
     "execution_count": 134,
     "metadata": {},
     "output_type": "execute_result"
    }
   ],
   "source": [
    "cyclicTest16"
   ]
  },
  {
   "cell_type": "markdown",
   "metadata": {},
   "source": [
    "# LRU tests"
   ]
  },
  {
   "cell_type": "code",
   "execution_count": 135,
   "metadata": {},
   "outputs": [],
   "source": [
    "LRUTest4 = testCache(\"LRU\",tests,4)"
   ]
  },
  {
   "cell_type": "code",
   "execution_count": 136,
   "metadata": {},
   "outputs": [
    {
     "data": {
      "text/plain": [
       "[17, 30, 54, 73, 92, 885]"
      ]
     },
     "execution_count": 136,
     "metadata": {},
     "output_type": "execute_result"
    }
   ],
   "source": [
    "LRUTest4"
   ]
  },
  {
   "cell_type": "code",
   "execution_count": 137,
   "metadata": {},
   "outputs": [],
   "source": [
    "LRUTest8 = testCache(\"LRU\",tests,8)"
   ]
  },
  {
   "cell_type": "code",
   "execution_count": 138,
   "metadata": {},
   "outputs": [
    {
     "data": {
      "text/plain": [
       "[17, 36, 43, 67, 78, 750]"
      ]
     },
     "execution_count": 138,
     "metadata": {},
     "output_type": "execute_result"
    }
   ],
   "source": [
    "LRUTest8"
   ]
  },
  {
   "cell_type": "code",
   "execution_count": 139,
   "metadata": {},
   "outputs": [],
   "source": [
    "LRUTest16 = testCache(\"LRU\",tests,16)"
   ]
  },
  {
   "cell_type": "code",
   "execution_count": 140,
   "metadata": {},
   "outputs": [
    {
     "data": {
      "text/plain": [
       "[16, 28, 30, 46, 49, 491]"
      ]
     },
     "execution_count": 140,
     "metadata": {},
     "output_type": "execute_result"
    }
   ],
   "source": [
    "LRUTest16"
   ]
  },
  {
   "cell_type": "markdown",
   "metadata": {},
   "source": [
    "# Random tests"
   ]
  },
  {
   "cell_type": "code",
   "execution_count": 141,
   "metadata": {},
   "outputs": [],
   "source": [
    "randomTest4 = testCache(\"Random\",tests,4)"
   ]
  },
  {
   "cell_type": "code",
   "execution_count": 142,
   "metadata": {},
   "outputs": [
    {
     "data": {
      "text/plain": [
       "[20, 39, 51, 74, 91, 861]"
      ]
     },
     "execution_count": 142,
     "metadata": {},
     "output_type": "execute_result"
    }
   ],
   "source": [
    "randomTest4"
   ]
  },
  {
   "cell_type": "code",
   "execution_count": 143,
   "metadata": {},
   "outputs": [],
   "source": [
    "randomTest8 = testCache(\"Random\",tests,8)"
   ]
  },
  {
   "cell_type": "code",
   "execution_count": 144,
   "metadata": {},
   "outputs": [
    {
     "data": {
      "text/plain": [
       "[17, 36, 49, 64, 68, 714]"
      ]
     },
     "execution_count": 144,
     "metadata": {},
     "output_type": "execute_result"
    }
   ],
   "source": [
    "randomTest8"
   ]
  },
  {
   "cell_type": "code",
   "execution_count": 145,
   "metadata": {},
   "outputs": [],
   "source": [
    "randomTest16 = testCache(\"Random\",tests,16)"
   ]
  },
  {
   "cell_type": "code",
   "execution_count": 146,
   "metadata": {},
   "outputs": [
    {
     "data": {
      "text/plain": [
       "[13, 21, 33, 45, 46, 489]"
      ]
     },
     "execution_count": 146,
     "metadata": {},
     "output_type": "execute_result"
    }
   ],
   "source": [
    "randomTest16"
   ]
  },
  {
   "cell_type": "markdown",
   "metadata": {},
   "source": [
    "# Visualising the data"
   ]
  },
  {
   "cell_type": "code",
   "execution_count": 147,
   "metadata": {},
   "outputs": [],
   "source": [
    "\n",
    "import matplotlib.pyplot as plt"
   ]
  },
  {
   "cell_type": "code",
   "execution_count": 148,
   "metadata": {},
   "outputs": [],
   "source": [
    "colNames = [\"20 Items C\",\n",
    "     \"40 Items C\",\n",
    "     \"60 Items C\",\n",
    "     \"80 Items C\",\n",
    "     \"100 Items C\",\n",
    "     \"20 Items L\",\n",
    "     \"40 Items L\",\n",
    "     \"60 Items L\",\n",
    "     \"80 Items L\",\n",
    "     \"100 Items L\",\n",
    "     \"20 Items R\",\n",
    "     \"40 Items R\",\n",
    "     \"60 Items R\",\n",
    "     \"80 Items R\",\n",
    "     \"100 Items R\"]"
   ]
  },
  {
   "cell_type": "code",
   "execution_count": null,
   "metadata": {},
   "outputs": [],
   "source": []
  },
  {
   "cell_type": "markdown",
   "metadata": {},
   "source": [
    "First I will compare the tests where the cache size is 4. For now I will exclude the 6 test and compare them later, as the values are substantially larger. In the graph below C denotes the cyclic test, L denotes the LRU tests and R denotes the Random tests"
   ]
  },
  {
   "cell_type": "code",
   "execution_count": 149,
   "metadata": {},
   "outputs": [
    {
     "data": {
      "image/png": "[encoded data removed]",
      "text/plain": [
       "<Figure size 1440x144 with 1 Axes>"
      ]
     },
     "metadata": {},
     "output_type": "display_data"
    }
   ],
   "source": [
    "fig = plt.figure(figsize=(20, 2)).add_subplot().bar(colNames,cyclicTest4[:5]+LRUTest4[:5]+randomTest4[:5])"
   ]
  },
  {
   "cell_type": "markdown",
   "metadata": {},
   "source": [
    "For Clarity I will also show all the raw data below"
   ]
  },
  {
   "cell_type": "code",
   "execution_count": 150,
   "metadata": {},
   "outputs": [
    {
     "name": "stdout",
     "output_type": "stream",
     "text": [
      "[16, 32, 54, 69, 87]\n",
      "[17, 30, 54, 73, 92]\n",
      "[20, 39, 51, 74, 91]\n"
     ]
    }
   ],
   "source": [
    "print(cyclicTest4[:5])\n",
    "print(LRUTest4[:5])\n",
    "print(randomTest4[:5])"
   ]
  },
  {
   "cell_type": "markdown",
   "metadata": {},
   "source": [
    "The data mirrors eachother quite closely and it is hard to tell which is the best here. However the cyclic test has the most number of low results"
   ]
  },
  {
   "cell_type": "code",
   "execution_count": 151,
   "metadata": {},
   "outputs": [
    {
     "data": {
      "image/png": "[encoded data removed]",
      "text/plain": [
       "<Figure size 1440x144 with 1 Axes>"
      ]
     },
     "metadata": {},
     "output_type": "display_data"
    }
   ],
   "source": [
    "fig = plt.figure(figsize=(20, 2)).add_subplot().bar(colNames,cyclicTest8[:5]+LRUTest8[:5]+randomTest8[:5])"
   ]
  },
  {
   "cell_type": "code",
   "execution_count": 152,
   "metadata": {},
   "outputs": [
    {
     "name": "stdout",
     "output_type": "stream",
     "text": [
      "[19, 33, 47, 66, 74]\n",
      "[17, 36, 43, 67, 78]\n",
      "[17, 36, 49, 64, 68]\n"
     ]
    }
   ],
   "source": [
    "print(cyclicTest8[:5])\n",
    "print(LRUTest8[:5])\n",
    "print(randomTest8[:5])"
   ]
  },
  {
   "cell_type": "code",
   "execution_count": 155,
   "metadata": {},
   "outputs": [
    {
     "data": {
      "text/plain": [
       "0.8148148148148148"
      ]
     },
     "execution_count": 155,
     "metadata": {},
     "output_type": "execute_result"
    }
   ],
   "source": [
    "(74+78+68)/(87+92+91)"
   ]
  },
  {
   "cell_type": "markdown",
   "metadata": {},
   "source": [
    "As shown above, doubling the cache size has reduced the cache hits but roughly 20%"
   ]
  },
  {
   "cell_type": "markdown",
   "metadata": {},
   "source": [
    "Once again the methods mirror one another, with the random test with the most number of low results"
   ]
  },
  {
   "cell_type": "code",
   "execution_count": 154,
   "metadata": {},
   "outputs": [
    {
     "data": {
      "image/png": "[encoded data removed]",
      "text/plain": [
       "<Figure size 1440x144 with 1 Axes>"
      ]
     },
     "metadata": {},
     "output_type": "display_data"
    }
   ],
   "source": [
    "fig = plt.figure(figsize=(20, 2)).add_subplot().bar(colNames,cyclicTest16[:5]+LRUTest16[:5]+randomTest16[:5])"
   ]
  },
  {
   "cell_type": "code",
   "execution_count": 156,
   "metadata": {},
   "outputs": [
    {
     "name": "stdout",
     "output_type": "stream",
     "text": [
      "[14, 29, 40, 46, 54]\n",
      "[16, 28, 30, 46, 49]\n",
      "[13, 21, 33, 45, 46]\n"
     ]
    }
   ],
   "source": [
    "print(cyclicTest16[:5])\n",
    "print(LRUTest16[:5])\n",
    "print(randomTest16[:5])"
   ]
  },
  {
   "cell_type": "code",
   "execution_count": 157,
   "metadata": {},
   "outputs": [
    {
     "data": {
      "text/plain": [
       "0.6772727272727272"
      ]
     },
     "execution_count": 157,
     "metadata": {},
     "output_type": "execute_result"
    }
   ],
   "source": [
    "(54+49+46)/(74+78+68)"
   ]
  },
  {
   "cell_type": "markdown",
   "metadata": {},
   "source": [
    "The double in cache size has led to a 30% reduction in cache hits"
   ]
  },
  {
   "cell_type": "markdown",
   "metadata": {},
   "source": [
    "In this test the clear winner is the random test with 4 of the lowest values"
   ]
  },
  {
   "cell_type": "code",
   "execution_count": 159,
   "metadata": {},
   "outputs": [
    {
     "data": {
      "image/png": "[encoded data removed]",
      "text/plain": [
       "<Figure size 1440x144 with 1 Axes>"
      ]
     },
     "metadata": {},
     "output_type": "display_data"
    }
   ],
   "source": [
    "fig = plt.figure(figsize=(20, 2)).add_subplot().bar([\"Cyclic4\", \n",
    "                                                     \"LRU4\", \n",
    "                                                     \"Random4\",\n",
    "                                                     \"Cyclic8\", \n",
    "                                                     \"LRU8\", \n",
    "                                                     \"Random8\",\n",
    "                                                     \"Cyclic16\", \n",
    "                                                     \"LRU16\", \n",
    "                                                     \"Random16\"],[cyclicTest4[5],\n",
    "                                                                  LRUTest4[5],\n",
    "                                                                 randomTest4[5],\n",
    "                                                                  cyclicTest8[5],\n",
    "                                                                  LRUTest8[5],\n",
    "                                                                 randomTest8[5],\n",
    "                                                                  cyclicTest16[5],\n",
    "                                                                  LRUTest16[5],\n",
    "                                                                 randomTest16[5]])"
   ]
  },
  {
   "cell_type": "code",
   "execution_count": 162,
   "metadata": {},
   "outputs": [
    {
     "data": {
      "text/plain": [
       "[857, 885, 861]"
      ]
     },
     "execution_count": 162,
     "metadata": {},
     "output_type": "execute_result"
    }
   ],
   "source": [
    "[cyclicTest4[5],\n",
    "LRUTest4[5],\n",
    "randomTest4[5]]"
   ]
  },
  {
   "cell_type": "code",
   "execution_count": 163,
   "metadata": {},
   "outputs": [
    {
     "data": {
      "text/plain": [
       "[737, 750, 714]"
      ]
     },
     "execution_count": 163,
     "metadata": {},
     "output_type": "execute_result"
    }
   ],
   "source": [
    "[cyclicTest8[5],\n",
    "LRUTest8[5],\n",
    "randomTest8[5]]"
   ]
  },
  {
   "cell_type": "code",
   "execution_count": 164,
   "metadata": {},
   "outputs": [
    {
     "data": {
      "text/plain": [
       "[489, 491, 489]"
      ]
     },
     "execution_count": 164,
     "metadata": {},
     "output_type": "execute_result"
    }
   ],
   "source": [
    "[cyclicTest16[5],\n",
    "LRUTest16[5],\n",
    "randomTest16[5]]"
   ]
  },
  {
   "cell_type": "markdown",
   "metadata": {},
   "source": [
    "The tests above show the result of applying each caching strategy on 100 items."
   ]
  },
  {
   "cell_type": "markdown",
   "metadata": {},
   "source": [
    "Once again the results are quite similar, however the cyclic test has the most low values"
   ]
  },
  {
   "cell_type": "markdown",
   "metadata": {},
   "source": [
    "# Conclusions"
   ]
  },
  {
   "cell_type": "markdown",
   "metadata": {},
   "source": [
    "In conclusion, the caching results clearly reduced the number of cache hits in comparison to the standard memory implementation.\n",
    "However, the results for each caching strategy were surprisingly similar throughout the experiment. My results suggest that the cyclic and random strategy are the better ones, however the results were so close that its possible that running the same tests again would reveal different results."
   ]
  },
  {
   "cell_type": "markdown",
   "metadata": {},
   "source": [
    "The results show that there is not much difference between the behaviour of each strategy. If there was, there would be a much clearer trend showing which strategy was better"
   ]
  },
  {
   "cell_type": "markdown",
   "metadata": {},
   "source": [
    "As for how often a lookup will result in a memory access, this will depend on several factors. For example, increasing the cache size will reduce the memory accesses, as expected. "
   ]
  }
 ],
 "metadata": {
  "kernelspec": {
   "display_name": "Python 3",
   "language": "python",
   "name": "python3"
  },
  "language_info": {
   "codemirror_mode": {
    "name": "ipython",
    "version": 3
   },
   "file_extension": ".py",
   "mimetype": "text/x-python",
   "name": "python",
   "nbconvert_exporter": "python",
   "pygments_lexer": "ipython3",
   "version": "3.6.9"
  }
 },
 "nbformat": 4,
 "nbformat_minor": 2
}
