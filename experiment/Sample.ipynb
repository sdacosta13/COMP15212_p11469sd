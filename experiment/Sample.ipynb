{
 "cells": [
  {
   "cell_type": "markdown",
   "metadata": {},
   "source": [
    "# Caching\n",
    "This is a small example notebook. It's not a very good one. "
   ]
  },
  {
   "cell_type": "code",
   "execution_count": 1,
   "metadata": {},
   "outputs": [],
   "source": [
    "from memory import Memory, CyclicCache, LRUCache, RandomCache"
   ]
  },
  {
   "cell_type": "markdown",
   "metadata": {},
   "source": [
    "## Experiments\n",
    "Create some test data and run a test"
   ]
  },
  {
   "cell_type": "code",
   "execution_count": 2,
   "metadata": {},
   "outputs": [
    {
     "name": "stdout",
     "output_type": "stream",
     "text": [
      "Memory\n",
      "4\n",
      "Hits\n",
      "LRU\n",
      "4\n",
      "Hits\n"
     ]
    }
   ],
   "source": [
    "test_data = [1,2,3,4]\n",
    "\n",
    "mem = Memory()\n",
    "lru = LRUCache()\n",
    "\n",
    "for datum in test_data:\n",
    "    mem.lookup(datum)\n",
    "    \n",
    "print(\"Memory\")\n",
    "print(mem.get_hit_count())\n",
    "print(\"Hits\")\n",
    "\n",
    "for datum in test_data:\n",
    "    lru.lookup(datum)\n",
    "\n",
    "print(\"LRU\")\n",
    "print(lru.get_hit_count())\n",
    "print(\"Hits\")\n"
   ]
  },
  {
   "cell_type": "markdown",
   "metadata": {},
   "source": [
    "## Conclusions\n",
    "Both implementations seem to be doing the same thing."
   ]
  }
 ],
 "metadata": {
  "kernelspec": {
   "display_name": "Python 3",
   "language": "python",
   "name": "python3"
  },
  "language_info": {
   "codemirror_mode": {
    "name": "ipython",
    "version": 3
   },
   "file_extension": ".py",
   "mimetype": "text/x-python",
   "name": "python",
   "nbconvert_exporter": "python",
   "pygments_lexer": "ipython3",
   "version": "3.6.9"
  }
 },
 "nbformat": 4,
 "nbformat_minor": 2
}
