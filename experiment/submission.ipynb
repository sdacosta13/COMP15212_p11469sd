{
 "cells": [
  {
   "cell_type": "markdown",
   "metadata": {},
   "source": [
    "# Caching\n"
   ]
  },
  {
   "cell_type": "code",
   "execution_count": 39,
   "metadata": {},
   "outputs": [],
   "source": [
    "from memory import Memory, CyclicCache, LRUCache, RandomCache\n",
    "import random"
   ]
  },
  {
   "cell_type": "markdown",
   "metadata": {},
   "source": [
    "First I will look at the Cyclic cache implementation\n"
   ]
  },
  {
   "cell_type": "markdown",
   "metadata": {},
   "source": [
    "# Cyclic Testing"
   ]
  },
  {
   "cell_type": "code",
   "execution_count": 40,
   "metadata": {},
   "outputs": [],
   "source": [
    "cache = CyclicCache()"
   ]
  },
  {
   "cell_type": "markdown",
   "metadata": {},
   "source": [
    "Below I generate tests for all caching strategys, I will make different size tests as well\n"
   ]
  },
  {
   "cell_type": "code",
   "execution_count": 41,
   "metadata": {},
   "outputs": [],
   "source": [
    "test20 = []\n",
    "for i in range(20):\n",
    "    test20.append(random.randint(0,9))\n"
   ]
  },
  {
   "cell_type": "code",
   "execution_count": 42,
   "metadata": {},
   "outputs": [],
   "source": [
    "test40 = []\n",
    "for i in range(40):\n",
    "    test40.append(random.randint(0,9))\n"
   ]
  },
  {
   "cell_type": "code",
   "execution_count": 43,
   "metadata": {},
   "outputs": [],
   "source": [
    "test60 = []\n",
    "for i in range(60):\n",
    "    test60.append(random.randint(0,9))\n"
   ]
  },
  {
   "cell_type": "code",
   "execution_count": 44,
   "metadata": {},
   "outputs": [],
   "source": [
    "test80 = []\n",
    "for i in range(80):\n",
    "    test80.append(random.randint(0,9))\n"
   ]
  },
  {
   "cell_type": "code",
   "execution_count": 45,
   "metadata": {},
   "outputs": [],
   "source": [
    "test100 = []\n",
    "for i in range(100):\n",
    "    test100.append(random.randint(0,9))\n"
   ]
  },
  {
   "cell_type": "markdown",
   "metadata": {},
   "source": [
    "Test with much larger test to check how it perform with more data"
   ]
  },
  {
   "cell_type": "code",
   "execution_count": 46,
   "metadata": {},
   "outputs": [],
   "source": [
    "test1000 = []\n",
    "for i in range(1000):\n",
    "    test1000.append(random.randint(0,9))\n"
   ]
  },
  {
   "cell_type": "markdown",
   "metadata": {},
   "source": [
    "Make a list for storing results"
   ]
  },
  {
   "cell_type": "code",
   "execution_count": 47,
   "metadata": {},
   "outputs": [],
   "source": [
    "cyclicTests = []"
   ]
  },
  {
   "cell_type": "markdown",
   "metadata": {},
   "source": [
    "Run the tests bellow. Just to note, I commented out the print statement to suppress the memory access messages"
   ]
  },
  {
   "cell_type": "code",
   "execution_count": 48,
   "metadata": {},
   "outputs": [],
   "source": [
    "for data in test20:\n",
    "    cache.lookup(data)\n",
    "cyclicTests.append(cache.get_hit_count())\n",
    "cache = CyclicCache()\n",
    "for data in test40:\n",
    "    cache.lookup(data)\n",
    "cyclicTests.append(cache.get_hit_count())\n",
    "cache = CyclicCache()\n",
    "for data in test60:\n",
    "    cache.lookup(data)\n",
    "cyclicTests.append(cache.get_hit_count())\n",
    "cache = CyclicCache()\n",
    "for data in test80:\n",
    "    cache.lookup(data)\n",
    "cyclicTests.append(cache.get_hit_count())\n",
    "cache = CyclicCache()\n",
    "for data in test100:\n",
    "    cache.lookup(data)\n",
    "cyclicTests.append(cache.get_hit_count())\n",
    "cache = CyclicCache()\n",
    "for data in test1000:\n",
    "    cache.lookup(data)\n",
    "cyclicTests.append(cache.get_hit_count())\n",
    "cache = CyclicCache()"
   ]
  },
  {
   "cell_type": "code",
   "execution_count": 49,
   "metadata": {},
   "outputs": [],
   "source": [
    "def getPercentages(list1):\n",
    "    newList = [0,0,0,0,0,0]\n",
    "    newList[0] = list1[0]/20\n",
    "    newList[1] = list1[1]/40\n",
    "    newList[2] = list1[2]/60\n",
    "    newList[3] = list1[3]/80\n",
    "    newList[4] = list1[4]/100\n",
    "    newList[5] = list1[5]/1000\n",
    "    return newList"
   ]
  },
  {
   "cell_type": "code",
   "execution_count": 50,
   "metadata": {},
   "outputs": [
    {
     "data": {
      "text/plain": [
       "[10, 22, 39, 44, 61, 599]"
      ]
     },
     "execution_count": 50,
     "metadata": {},
     "output_type": "execute_result"
    }
   ],
   "source": [
    "cyclicTests"
   ]
  },
  {
   "cell_type": "code",
   "execution_count": 51,
   "metadata": {},
   "outputs": [
    {
     "data": {
      "text/plain": [
       "[0.5, 0.55, 0.65, 0.55, 0.61, 0.599]"
      ]
     },
     "execution_count": 51,
     "metadata": {},
     "output_type": "execute_result"
    }
   ],
   "source": [
    "cyclicTestsPercentages = getPercentages(cyclicTests)\n",
    "cyclicTestsPercentages"
   ]
  },
  {
   "cell_type": "markdown",
   "metadata": {},
   "source": [
    "Now I will run it with a different cache size of 16"
   ]
  },
  {
   "cell_type": "code",
   "execution_count": 52,
   "metadata": {},
   "outputs": [],
   "source": [
    "cyclicTests2 = []\n",
    "cache = CyclicCache(16)\n",
    "for data in test20:\n",
    "    cache.lookup(data)\n",
    "cyclicTests2.append(cache.get_hit_count())\n",
    "cache = CyclicCache(16)\n",
    "for data in test40:\n",
    "    cache.lookup(data)\n",
    "cyclicTests2.append(cache.get_hit_count())\n",
    "cache = CyclicCache(16)\n",
    "for data in test60:\n",
    "    cache.lookup(data)\n",
    "cyclicTests2.append(cache.get_hit_count())\n",
    "cache = CyclicCache(16)\n",
    "for data in test80:\n",
    "    cache.lookup(data)\n",
    "cyclicTests2.append(cache.get_hit_count())\n",
    "cache = CyclicCache(16)\n",
    "for data in test100:\n",
    "    cache.lookup(data)\n",
    "cyclicTests2.append(cache.get_hit_count())\n",
    "cache = CyclicCache(16)\n",
    "for data in test1000:\n",
    "    cache.lookup(data)\n",
    "cyclicTests2.append(cache.get_hit_count())\n",
    "cache = CyclicCache(16)"
   ]
  },
  {
   "cell_type": "code",
   "execution_count": 53,
   "metadata": {},
   "outputs": [
    {
     "data": {
      "text/plain": [
       "[8, 10, 10, 10, 10, 10]"
      ]
     },
     "execution_count": 53,
     "metadata": {},
     "output_type": "execute_result"
    }
   ],
   "source": [
    "cyclicTests2\n"
   ]
  },
  {
   "cell_type": "code",
   "execution_count": 55,
   "metadata": {},
   "outputs": [
    {
     "data": {
      "text/plain": [
       "[0.4, 0.25, 0.16666666666666666, 0.125, 0.1, 0.01]"
      ]
     },
     "execution_count": 55,
     "metadata": {},
     "output_type": "execute_result"
    }
   ],
   "source": [
    "cyclicTestsPercentages2 = getPercentages(cyclicTests2)\n",
    "cyclicTestsPercentages2"
   ]
  },
  {
   "cell_type": "markdown",
   "metadata": {},
   "source": [
    "# LRU Cache Testing"
   ]
  }
 ],
 "metadata": {
  "kernelspec": {
   "display_name": "Python 3",
   "language": "python",
   "name": "python3"
  },
  "language_info": {
   "codemirror_mode": {
    "name": "ipython",
    "version": 3
   },
   "file_extension": ".py",
   "mimetype": "text/x-python",
   "name": "python",
   "nbconvert_exporter": "python",
   "pygments_lexer": "ipython3",
   "version": "3.6.9"
  }
 },
 "nbformat": 4,
 "nbformat_minor": 2
}
